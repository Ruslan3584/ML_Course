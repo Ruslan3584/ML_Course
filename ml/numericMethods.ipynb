{
 "cells": [
  {
   "cell_type": "code",
   "execution_count": 11,
   "metadata": {},
   "outputs": [],
   "source": [
    "import numpy as np\n",
    "from math import *\n",
    "def f(t):                      #многочлен\n",
    "    return 2*(t**5)+3*(t**2)-2*t-6\n"
   ]
  },
  {
   "cell_type": "markdown",
   "metadata": {},
   "source": [
    "## деякі чисельні методи для знаходження нулів функції"
   ]
  },
  {
   "cell_type": "code",
   "execution_count": 12,
   "metadata": {},
   "outputs": [],
   "source": [
    "def df(t):                   #похідна заданого многочлена для методу ньютона\n",
    "    return 10*(t**4)+6*t-2"
   ]
  },
  {
   "cell_type": "code",
   "execution_count": 15,
   "metadata": {},
   "outputs": [],
   "source": [
    "import math\n",
    "def bisection(a,b,e):       #метод бісекції\n",
    "    iterat=0\n",
    "    while fabs(b-a)>=e:\n",
    "        c=(a+b)/2\n",
    "        if (f(a)*f(c)<=0):\n",
    "            b=c\n",
    "        else:\n",
    "            a=c\n",
    "        iterat+=1\n",
    "        print(str(iterat)+\" a=\"+str(a)+\" b=\"+str(b))\n",
    "        print(\"abs\"+str(math.fabs(b-a)))\n",
    "    print(\"iteration \"+str(iterat))\n",
    "    return c\n"
   ]
  },
  {
   "cell_type": "code",
   "execution_count": 16,
   "metadata": {},
   "outputs": [
    {
     "name": "stdout",
     "output_type": "stream",
     "text": [
      "1 a=0.68 b=2.34\n",
      "abs1.6599999999999997\n",
      "2 a=0.68 b=1.51\n",
      "abs0.83\n",
      "3 a=1.095 b=1.51\n",
      "abs0.41500000000000004\n",
      "4 a=1.095 b=1.3025\n",
      "abs0.20750000000000002\n",
      "5 a=1.095 b=1.19875\n",
      "abs0.10375000000000001\n",
      "6 a=1.146875 b=1.19875\n",
      "abs0.05187499999999989\n",
      "7 a=1.146875 b=1.1728125\n",
      "abs0.025937499999999947\n",
      "8 a=1.15984375 b=1.1728125\n",
      "abs0.012968749999999973\n",
      "9 a=1.15984375 b=1.1663281250000002\n",
      "abs0.006484375000000098\n",
      "10 a=1.1630859375 b=1.1663281250000002\n",
      "abs0.00324218750000016\n",
      "11 a=1.1630859375 b=1.16470703125\n",
      "abs0.00162109375000008\n",
      "12 a=1.1630859375 b=1.163896484375\n",
      "abs0.0008105468749999289\n",
      "13 a=1.1634912109375 b=1.163896484375\n",
      "abs0.00040527343749996447\n",
      "14 a=1.1634912109375 b=1.16369384765625\n",
      "abs0.00020263671874998224\n",
      "15 a=1.1634912109375 b=1.163592529296875\n",
      "abs0.00010131835937499112\n",
      "16 a=1.1635418701171876 b=1.163592529296875\n",
      "abs5.065917968738454e-05\n",
      "17 a=1.1635418701171876 b=1.1635671997070314\n",
      "abs2.532958984380329e-05\n",
      "18 a=1.1635545349121095 b=1.1635671997070314\n",
      "abs1.2664794921901645e-05\n",
      "19 a=1.1635545349121095 b=1.1635608673095703\n",
      "abs6.3323974608398e-06\n",
      "20 a=1.16355770111084 b=1.1635608673095703\n",
      "abs3.166198730308878e-06\n",
      "21 a=1.16355770111084 b=1.1635592842102052\n",
      "abs1.583099365154439e-06\n",
      "22 a=1.1635584926605227 b=1.1635592842102052\n",
      "abs7.915496824661972e-07\n",
      "iteration 22\n"
     ]
    },
    {
     "data": {
      "text/plain": [
       "1.1635584926605227"
      ]
     },
     "execution_count": 16,
     "metadata": {},
     "output_type": "execute_result"
    }
   ],
   "source": [
    "bisection(0.68,4.0,0.000001)"
   ]
  },
  {
   "cell_type": "code",
   "execution_count": 20,
   "metadata": {},
   "outputs": [],
   "source": [
    "def c(x2,x1):                     #знаходимо точку с для методу хорд\n",
    "    result = x2-(f(x2)*(x2-x1))/(f(x2)-f(x1))\n",
    "    return result\n",
    "def secant(a,b,e):                          #метод хорд\n",
    "    iterat=1\n",
    "    x2,x1 = a,b\n",
    "    if f(x1)*f(x2)>=0:\n",
    "        print('коренів немає')\n",
    "    else:\n",
    "        while ((abs(x1-x2) >= e)):\n",
    "            x2,x1 = c(x2,x1),x2\n",
    "            iterat+=1\n",
    "            print(str(iterat)+\" x1=\"+str(x1)+\" x2=\"+str(x2))\n",
    "            print(\"abs\"+str(math.fabs(x1-x2)))\n",
    "    print(\"iter\"+str(iterat))\n",
    "    return x2\n"
   ]
  },
  {
   "cell_type": "code",
   "execution_count": 21,
   "metadata": {},
   "outputs": [
    {
     "name": "stdout",
     "output_type": "stream",
     "text": [
      "2 x1=0.68 x2=0.6890359949411798\n",
      "abs0.009035994941179792\n",
      "3 x1=0.6890359949411798 x2=2.000529399484094\n",
      "abs1.3114934045429143\n",
      "4 x1=2.000529399484094 x2=0.7922090591413178\n",
      "abs1.2083203403427762\n",
      "5 x1=0.7922090591413178 x2=0.8784186331473623\n",
      "abs0.08620957400604456\n",
      "6 x1=0.8784186331473623 x2=1.434422380394484\n",
      "abs0.5560037472471216\n",
      "7 x1=1.434422380394484 x2=1.0549528807316182\n",
      "abs0.3794694996628658\n",
      "8 x1=1.0549528807316182 x2=1.125497048804883\n",
      "abs0.0705441680732648\n",
      "9 x1=1.125497048804883 x2=1.170352731166658\n",
      "abs0.04485568236177495\n",
      "10 x1=1.170352731166658 x2=1.1631674118277742\n",
      "abs0.007185319338883778\n",
      "11 x1=1.1631674118277742 x2=1.1635546016604077\n",
      "abs0.0003871898326335277\n",
      "12 x1=1.1635546016604077 x2=1.163558519846158\n",
      "abs3.918185750295677e-06\n",
      "iter12\n"
     ]
    },
    {
     "data": {
      "text/plain": [
       "1.163558519846158"
      ]
     },
     "execution_count": 21,
     "metadata": {},
     "output_type": "execute_result"
    }
   ],
   "source": [
    "secant(0.68,4.0,0.00001)"
   ]
  },
  {
   "cell_type": "code",
   "execution_count": 24,
   "metadata": {},
   "outputs": [],
   "source": [
    "def newton(a,b,e):              #метод ньютона\n",
    "    iterat=1\n",
    "    c=a+b\n",
    "    while fabs(f(c))>=e:\n",
    "        prev=c\n",
    "        c=prev-(f(prev)/df(prev))\n",
    "        iterat+=1\n",
    "        print(\"abs\"+str(math.fabs(f(c))))\n",
    "    print(\"iter\"+str(iterat))\n",
    "    return c"
   ]
  },
  {
   "cell_type": "code",
   "execution_count": 25,
   "metadata": {},
   "outputs": [
    {
     "name": "stdout",
     "output_type": "stream",
     "text": [
      "abs46.700683666757534\n",
      "abs13.97942358552326\n",
      "abs3.401856599475437\n",
      "abs0.44828007761651456\n",
      "abs0.011774220212526387\n",
      "abs8.783888086227876e-06\n",
      "iter7\n",
      "1.1635588943921087\n"
     ]
    }
   ],
   "source": [
    "print(newton(0.68,4,0.00001))"
   ]
  },
  {
   "cell_type": "code",
   "execution_count": null,
   "metadata": {},
   "outputs": [],
   "source": []
  }
 ],
 "metadata": {
  "kernelspec": {
   "display_name": "Python 3",
   "language": "python",
   "name": "python3"
  },
  "language_info": {
   "codemirror_mode": {
    "name": "ipython",
    "version": 3
   },
   "file_extension": ".py",
   "mimetype": "text/x-python",
   "name": "python",
   "nbconvert_exporter": "python",
   "pygments_lexer": "ipython3",
   "version": "3.7.4"
  }
 },
 "nbformat": 4,
 "nbformat_minor": 2
}
